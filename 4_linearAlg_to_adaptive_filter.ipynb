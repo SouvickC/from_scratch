{
 "cells": [
  {
   "cell_type": "code",
   "execution_count": null,
   "id": "ba225044",
   "metadata": {},
   "outputs": [],
   "source": [
    "import numpy as np\n",
    "import matplotlib.pyplot as plt\n"
   ]
  },
  {
   "cell_type": "markdown",
   "id": "c3c3a0ca",
   "metadata": {},
   "source": [
    "## Linear Algebra\n"
   ]
  },
  {
   "cell_type": "code",
   "execution_count": 38,
   "id": "77a0e3b8",
   "metadata": {},
   "outputs": [
    {
     "name": "stdout",
     "output_type": "stream",
     "text": [
      "35\n"
     ]
    }
   ],
   "source": [
    "## Vector\n",
    "\n",
    "v =np.array([2,3,4])\n",
    "p =np.array([2,5,4])\n",
    "\n",
    "dot_vp = np.dot(v,p)\n",
    "print(dot_vp)"
   ]
  },
  {
   "cell_type": "code",
   "execution_count": 39,
   "id": "63cc83b3",
   "metadata": {},
   "outputs": [
    {
     "name": "stdout",
     "output_type": "stream",
     "text": [
      "6\n",
      "[[2 3]\n",
      " [2 5]]\n"
     ]
    }
   ],
   "source": [
    "v1 =np.array([[2,3,4],\n",
    "            [2,5,4]])\n",
    "        \n",
    "print(v1.size)\n",
    "\n",
    "print(v1[:,:-1])\n",
    "\n"
   ]
  },
  {
   "cell_type": "code",
   "execution_count": 40,
   "id": "f9241e63",
   "metadata": {},
   "outputs": [
    {
     "name": "stdout",
     "output_type": "stream",
     "text": [
      "[[18 14 22]\n",
      " [22 18 26]]\n",
      "(2, 3) (3, 3) (2, 3)\n"
     ]
    }
   ],
   "source": [
    "## matrix multiplication\n",
    "\n",
    "v1 =np.array([[2,3,4],\n",
    "            [2,5,4]])\n",
    "\n",
    "v2 =np.array([[2,0,4],\n",
    "            [2,2,2],\n",
    "            [2,2,2]])\n",
    "\n",
    "c =v1.dot(v2)\n",
    "\n",
    "print(c)\n",
    "\n",
    "print(v1.shape, v2.shape, c.shape)"
   ]
  },
  {
   "cell_type": "code",
   "execution_count": 41,
   "id": "857143a2",
   "metadata": {},
   "outputs": [
    {
     "name": "stdout",
     "output_type": "stream",
     "text": [
      "[[18]\n",
      " [22]]\n",
      "(2, 3) (3, 1) --> (2, 1)\n"
     ]
    }
   ],
   "source": [
    "v1 =np.array([[2,3,4],\n",
    "            [2,5,4]])\n",
    "\n",
    "v2 =np.array([[2],\n",
    "            [2],\n",
    "            [2]])\n",
    "\n",
    "c =v1.dot(v2)\n",
    "\n",
    "print(c)\n",
    "\n",
    "print(v1.shape, v2.shape, \"-->\", c.shape)"
   ]
  },
  {
   "cell_type": "code",
   "execution_count": 42,
   "id": "cd6a7a83",
   "metadata": {},
   "outputs": [
    {
     "name": "stdout",
     "output_type": "stream",
     "text": [
      "[[2 2]\n",
      " [3 5]\n",
      " [4 4]]\n",
      "(3, 2)\n"
     ]
    }
   ],
   "source": [
    "v1_T =v1.T\n",
    "print(v1_T)\n",
    "print(v1_T.shape)"
   ]
  },
  {
   "cell_type": "code",
   "execution_count": null,
   "id": "645bb794",
   "metadata": {},
   "outputs": [
    {
     "name": "stdout",
     "output_type": "stream",
     "text": [
      "-225.0\n"
     ]
    }
   ],
   "source": [
    "sq_matrix = np.array([[13,12,4],\n",
    "                      [2,10, 5],\n",
    "                      [3,5, 0]])\n",
    "det_sm = np.linalg.det(sq_matrix)\n",
    "print(det_sm)"
   ]
  },
  {
   "cell_type": "code",
   "execution_count": 158,
   "id": "e0189d3e",
   "metadata": {},
   "outputs": [
    {
     "name": "stdout",
     "output_type": "stream",
     "text": [
      "[[0 2 3]\n",
      " [2 2 0]\n",
      " [1 2 3]]\n"
     ]
    }
   ],
   "source": [
    "rand_sq_matrix = np.random.randint(0, 4,(3,3))\n",
    "print(rand_sq_matrix)"
   ]
  },
  {
   "cell_type": "code",
   "execution_count": null,
   "id": "46164386",
   "metadata": {},
   "outputs": [],
   "source": [
    "## Inverse of a matrix\n",
    "## (adjoint of a matrix)/det of the matrix\n",
    "## cofactor transpose of a matrix is adjoint of a matrix\n"
   ]
  },
  {
   "cell_type": "code",
   "execution_count": null,
   "id": "1f20d2ed",
   "metadata": {},
   "outputs": [
    {
     "name": "stdout",
     "output_type": "stream",
     "text": [
      "************************************************\n",
      "direct inverse calculation\n",
      " [[-1.          0.          1.        ]\n",
      " [ 1.          0.5        -1.        ]\n",
      " [-0.33333333 -0.33333333  0.66666667]]\n"
     ]
    }
   ],
   "source": [
    "\n",
    "\n",
    "print(\"**\"*24)\n",
    "\n",
    "inverse_matrix=np.linalg.inv(rand_sq_matrix)\n",
    "\n",
    "print(\"direct inverse calculation\\n\", np.linalg.inv(rand_sq_matrix))"
   ]
  },
  {
   "cell_type": "code",
   "execution_count": 167,
   "id": "02867b30",
   "metadata": {},
   "outputs": [
    {
     "name": "stdout",
     "output_type": "stream",
     "text": [
      "-1.0\n",
      "1.0\n",
      "-0.3333333333333333\n",
      "0.0\n",
      "0.5\n",
      "-0.3333333333333333\n",
      "1.0\n",
      "-1.0\n",
      "0.6666666666666666\n"
     ]
    }
   ],
   "source": [
    "## element print of the inverse matrix\n",
    "for i in inverse_matrix.T:\n",
    "    for j in i:\n",
    "        print(j)"
   ]
  },
  {
   "cell_type": "code",
   "execution_count": 169,
   "id": "6fbb36ea",
   "metadata": {},
   "outputs": [
    {
     "name": "stdout",
     "output_type": "stream",
     "text": [
      "3\n"
     ]
    }
   ],
   "source": [
    "rank = np.linalg.matrix_rank(inverse_matrix)\n",
    "print(rank)"
   ]
  },
  {
   "cell_type": "code",
   "execution_count": 182,
   "id": "22ce8b05",
   "metadata": {},
   "outputs": [
    {
     "name": "stdout",
     "output_type": "stream",
     "text": [
      "[ 4.95758699 -1.07911886  1.12153188] \n",
      " ********** \n",
      " [[ 0.58707931  0.83704046  0.32006576]\n",
      " [ 0.39699884 -0.54368831 -0.72869067]\n",
      " [ 0.70549968  0.06137015  0.60544844]]\n"
     ]
    }
   ],
   "source": [
    "eigvals, eigvecs = np.linalg.eig(rand_sq_matrix)\n",
    "print(eigvals,'\\n', \"**\"*5,'\\n',eigvecs)"
   ]
  },
  {
   "cell_type": "markdown",
   "id": "3714c487",
   "metadata": {},
   "source": [
    "## Signal generation"
   ]
  },
  {
   "cell_type": "code",
   "execution_count": 201,
   "id": "78990ec6",
   "metadata": {},
   "outputs": [
    {
     "name": "stdout",
     "output_type": "stream",
     "text": [
      "(100,)\n",
      "(100,)\n"
     ]
    },
    {
     "data": {
      "image/png": "[encoded data removed]",
      "text/plain": [
       "<Figure size 640x480 with 1 Axes>"
      ]
     },
     "metadata": {},
     "output_type": "display_data"
    }
   ],
   "source": [
    "input = np.arange(0, 10, 0.1)\n",
    "print(input.shape)\n",
    "\n",
    "output = np.sin(input)\n",
    "\n",
    "plt.plot(input,output)\n",
    "print(output.shape)"
   ]
  },
  {
   "cell_type": "code",
   "execution_count": 200,
   "id": "96007d3b",
   "metadata": {},
   "outputs": [
    {
     "data": {
      "text/plain": [
       "(100,)"
      ]
     },
     "execution_count": 200,
     "metadata": {},
     "output_type": "execute_result"
    }
   ],
   "source": [
    "noise = np.random.randn(100)\n",
    "noise.shape"
   ]
  },
  {
   "cell_type": "code",
   "execution_count": null,
   "id": "ad143f5a",
   "metadata": {},
   "outputs": [],
   "source": []
  },
  {
   "cell_type": "code",
   "execution_count": null,
   "id": "685a659e",
   "metadata": {},
   "outputs": [],
   "source": []
  },
  {
   "cell_type": "code",
   "execution_count": null,
   "id": "4caee54d",
   "metadata": {},
   "outputs": [],
   "source": []
  },
  {
   "cell_type": "code",
   "execution_count": null,
   "id": "d072a9df",
   "metadata": {},
   "outputs": [],
   "source": []
  },
  {
   "cell_type": "code",
   "execution_count": null,
   "id": "f47fc66e",
   "metadata": {},
   "outputs": [],
   "source": []
  },
  {
   "cell_type": "code",
   "execution_count": null,
   "id": "d889175f",
   "metadata": {},
   "outputs": [],
   "source": []
  },
  {
   "cell_type": "code",
   "execution_count": null,
   "id": "c50713a8",
   "metadata": {},
   "outputs": [],
   "source": []
  },
  {
   "cell_type": "code",
   "execution_count": null,
   "id": "3865162c",
   "metadata": {},
   "outputs": [],
   "source": []
  },
  {
   "cell_type": "code",
   "execution_count": null,
   "id": "425b866f",
   "metadata": {},
   "outputs": [],
   "source": []
  },
  {
   "cell_type": "code",
   "execution_count": null,
   "id": "1b388fff",
   "metadata": {},
   "outputs": [],
   "source": []
  },
  {
   "cell_type": "code",
   "execution_count": null,
   "id": "10953b82",
   "metadata": {},
   "outputs": [],
   "source": []
  },
  {
   "cell_type": "code",
   "execution_count": null,
   "id": "568f0bcc",
   "metadata": {},
   "outputs": [],
   "source": []
  },
  {
   "cell_type": "code",
   "execution_count": null,
   "id": "3ad2196b",
   "metadata": {},
   "outputs": [],
   "source": []
  },
  {
   "cell_type": "code",
   "execution_count": null,
   "id": "0547958e",
   "metadata": {},
   "outputs": [],
   "source": []
  },
  {
   "cell_type": "code",
   "execution_count": null,
   "id": "53c0a71e",
   "metadata": {},
   "outputs": [],
   "source": []
  },
  {
   "cell_type": "code",
   "execution_count": null,
   "id": "da4c8e5b",
   "metadata": {},
   "outputs": [],
   "source": []
  },
  {
   "cell_type": "code",
   "execution_count": null,
   "id": "1cd6753a",
   "metadata": {},
   "outputs": [],
   "source": []
  },
  {
   "cell_type": "code",
   "execution_count": null,
   "id": "8562a182",
   "metadata": {},
   "outputs": [],
   "source": []
  },
  {
   "cell_type": "code",
   "execution_count": null,
   "id": "f5f5d0d9",
   "metadata": {},
   "outputs": [],
   "source": []
  }
 ],
 "metadata": {
  "kernelspec": {
   "display_name": "CV-env",
   "language": "python",
   "name": "python3"
  },
  "language_info": {
   "codemirror_mode": {
    "name": "ipython",
    "version": 3
   },
   "file_extension": ".py",
   "mimetype": "text/x-python",
   "name": "python",
   "nbconvert_exporter": "python",
   "pygments_lexer": "ipython3",
   "version": "3.10.16"
  }
 },
 "nbformat": 4,
 "nbformat_minor": 5
}
